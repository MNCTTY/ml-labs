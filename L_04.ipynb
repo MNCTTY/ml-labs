{
 "cells": [
  {
   "cell_type": "markdown",
   "metadata": {},
   "source": [
    "# Лабораторная работа 4. "
   ]
  },
  {
   "cell_type": "markdown",
   "metadata": {},
   "source": [
    "## Задание\n",
    "\n",
    "В данном задании мы будем работать с подмножеством датасета IMDB Movies Reviews из соревнования [Bag of Words Meets Bags of Popcorn](https://www.kaggle.com/c/word2vec-nlp-tutorial/data). \n",
    "![](http://i.imgur.com/QZgxFic.png)\n",
    "\n",
    "Задача состоит в следующем: по отзыву на фильм необходимо понять является ли он положительным или отрицательным. Это один из примеров задачи анализа тональности текста ([sentiment analysis](https://en.wikipedia.org/wiki/Sentiment_analysis)). Пример отзыва из выборки:\n",
    "    \n",
    "    This can be one of the most enjoyable movies ever if you don't take it seriously. It is a bit dated and the effects are lame, but it is so enjoyable. There are giant crabs that attack a girl. oh, and the crabs sing Japanese. It is amazingly bad. And the ending, which has been telegraphed throughout the entire film is hideously awesome. Predictable, but seeing the final fight will leave you rolling in your seat. Don't even give this film a chance and you will love it. Susan George is fun to watch and yes, she does appear naked. Her daughter isn't quite worth putting up with, but she does get attacked by giant crabs. They are the size of large cats. This is a 2, but I love it. As a movie, my God, but for entertainment, I give it a 7. Did I mention there are giant crabs?"
   ]
  },
  {
   "cell_type": "markdown",
   "metadata": {},
   "source": [
    "Загрузите датасет из файла *data.tsv*."
   ]
  },
  {
   "cell_type": "code",
   "execution_count": 1,
   "metadata": {},
   "outputs": [],
   "source": [
    "import numpy as np\n",
    "import pandas as pd"
   ]
  },
  {
   "cell_type": "code",
   "execution_count": 2,
   "metadata": {},
   "outputs": [],
   "source": [
    "data=pd.read_csv('lab.04.tsv', sep='\\t')"
   ]
  },
  {
   "cell_type": "markdown",
   "metadata": {},
   "source": [
    "Для оценки качества в данной задаче мы будем использовать отложенную выборку. Разделите все данные на две части: 16000 объектов будет обучающей выборкой и 4000 объектов — тестовой.\n",
    "\n",
    "Вам будет необходимо учесть следующие особенности разбиения:\n",
    " - оно должно быть воспроизводимо\n",
    " - соотношение классов в каждой из частей должно сохраняться (например, при использовании функции *train_test_split* указать *stratify*)"
   ]
  },
  {
   "cell_type": "code",
   "execution_count": 3,
   "metadata": {},
   "outputs": [],
   "source": [
    "X=data.drop(['sentiment'],axis=1)\n",
    "y=data.sentiment"
   ]
  },
  {
   "cell_type": "code",
   "execution_count": 4,
   "metadata": {},
   "outputs": [],
   "source": [
    "from sklearn.model_selection import train_test_split\n",
    "X_train, X_test, y_train, y_test = train_test_split(X, y, test_size=0.2, random_state=4, stratify=y)"
   ]
  },
  {
   "cell_type": "markdown",
   "metadata": {},
   "source": [
    "Одна из сложностей данной задачи — текстовое представление данных, так как не существует какого-то универсального способа извлечения признаков из текстов. По ходу работы мы получим несколько наборов признаков, которые будем сравнивать между собой."
   ]
  },
  {
   "cell_type": "markdown",
   "metadata": {},
   "source": [
    "Для начала попробуем самый простой подход, а именно [bag-of-words](https://en.wikipedia.org/wiki/Bag-of-words_model) кодирование данных. С помощью него каждый текст будет представлен в виде вектора, размер которого равен размеру словаря, а на каждой позиции стоит число, сколько раз соответствующее слово встретилось в этом тексте. Кроме того, хорошей практикой является отфильтровывать стоп-слова.\n",
    "\n",
    "Это представление можно получить используя класс [CountVectorizer](http://scikit-learn.org/stable/modules/generated/sklearn.feature_extraction.text.CountVectorizer.html#sklearn.feature_extraction.text.CountVectorizer) из библиотеки sklearn. Одно из удобств данного метода состоит в том, что возвращаемый результат является [sparse](http://docs.scipy.org/doc/scipy-0.15.1/reference/sparse.html)-матрицей, так как при таком преобразовании получается достаточно много 0. Более подробно про такие матрицы можно прочитать, например, [здесь](http://www.scipy-lectures.org/advanced/scipy_sparse/index.html).\n",
    "\n",
    "Примените *bag-of-words* кодирование данных. Мы рекомендуем обучать здесь и в дальнейшем преобразование на обучающей выборке, после чего применять его к тестовой. Какой размерности стали данные?"
   ]
  },
  {
   "cell_type": "code",
   "execution_count": 5,
   "metadata": {},
   "outputs": [],
   "source": [
    "from sklearn.feature_extraction.text import CountVectorizer\n",
    "vectorizer = CountVectorizer(stop_words='english')"
   ]
  },
  {
   "cell_type": "code",
   "execution_count": 6,
   "metadata": {},
   "outputs": [],
   "source": [
    "X_tr_v=vectorizer.fit_transform(X_train.review)\n",
    "X_tr_v.columns=vectorizer.vocabulary_.keys()"
   ]
  },
  {
   "cell_type": "code",
   "execution_count": 7,
   "metadata": {},
   "outputs": [],
   "source": [
    "X_test_v=vectorizer.transform(X_test.review)\n",
    "X_test_v.columns=vectorizer.vocabulary_.keys()"
   ]
  },
  {
   "cell_type": "markdown",
   "metadata": {},
   "source": [
    "После того как было получено некоторое подходящее представление данных, хочется обучить алгоритмы классификации и сравнить их между собой. Для этого необходимо понять по каким метрикам будут сравниваться алгоритмы. Для начала можно рассмотреть, например, следующе метрики:\n",
    "\n",
    "- accuracy: $$ Accuracy = \\frac{1}{l}\\sum_{i=1}^l[y_i = \\hat{y}_i]$$ где $y_i$ — истинный ответ на объекте $x_i$, $\\hat{y}_i$ — предсказанный. (мы не рекомендуем переводить *accuracy* как точность, потому что в русскоязычной литературе точностью называют другую метрику)\n",
    "- точность: $$Precision = \\frac{TP}{TP + FP}$$\n",
    "- полнота: $$Recall = \\frac{TP}{TP + FN}$$\n",
    "\n",
    "где обозначения *TP*, *FP*, *FN* и *TN* — элементы матрицы ошибок:\n",
    "\n",
    "| | y = 1 | y = 0 |\n",
    "|------|------|\n",
    "|   a(x) = 1  | TP| FP |\n",
    "| a(x) = 0| FN | TN |\n",
    "\n",
    "Обратите внимание, что точность и полнота вычисляются относительно фиксированного класса. В sklearn есть удобная функция [classification_report](http://scikit-learn.org/stable/modules/generated/sklearn.metrics.classification_report.html), позволяющая сразу вычислять эти метрики для всех классов. "
   ]
  },
  {
   "cell_type": "markdown",
   "metadata": {},
   "source": [
    "**(1 балл) Задание 1.**\n",
    "\n",
    "Какие недостатки для данной задачи вы видите у метрики *Accuracy*?"
   ]
  },
  {
   "cell_type": "markdown",
   "metadata": {},
   "source": [
    "Обучите логистическую регрессию и случайный лес с 500 деревьев на *bag-of-words* представлении выборки и измерьте качество на тестовых данных с помощью трех описанных выше метрик. Кроме этого, сравните время обучения алгоритмов. Есть ли существенная разница в качестве алгоритмов? Какой из методов кажется менее применимым в данной задаче и почему?"
   ]
  },
  {
   "cell_type": "code",
   "execution_count": 11,
   "metadata": {},
   "outputs": [],
   "source": [
    "from sklearn import linear_model\n",
    "logloss = linear_model.SGDClassifier(loss='log')"
   ]
  },
  {
   "cell_type": "code",
   "execution_count": 12,
   "metadata": {},
   "outputs": [
    {
     "data": {
      "text/plain": [
       "SGDClassifier(alpha=0.0001, average=False, class_weight=None, epsilon=0.1,\n",
       "       eta0=0.0, fit_intercept=True, l1_ratio=0.15,\n",
       "       learning_rate='optimal', loss='log', n_iter=5, n_jobs=1,\n",
       "       penalty='l2', power_t=0.5, random_state=None, shuffle=True,\n",
       "       verbose=0, warm_start=False)"
      ]
     },
     "execution_count": 12,
     "metadata": {},
     "output_type": "execute_result"
    }
   ],
   "source": [
    "logloss.fit(X_tr_v,y_train)"
   ]
  },
  {
   "cell_type": "code",
   "execution_count": 13,
   "metadata": {},
   "outputs": [],
   "source": [
    "pred_logloss=logloss.predict(X_test_v)"
   ]
  },
  {
   "cell_type": "code",
   "execution_count": 14,
   "metadata": {
    "collapsed": true
   },
   "outputs": [],
   "source": [
    "from sklearn.ensemble import RandomForestClassifier\n",
    "rf=RandomForestClassifier(n_estimators=500)"
   ]
  },
  {
   "cell_type": "code",
   "execution_count": null,
   "metadata": {},
   "outputs": [],
   "source": [
    "rf.fit(X_tr_v,y_train)"
   ]
  },
  {
   "cell_type": "code",
   "execution_count": null,
   "metadata": {},
   "outputs": [],
   "source": [
    "import joblib\n",
    "joblib.dump(rf, 'rf.pkl')"
   ]
  },
  {
   "cell_type": "code",
   "execution_count": 17,
   "metadata": {},
   "outputs": [],
   "source": [
    "import joblib\n",
    "rf=joblib.load('rf.pkl')"
   ]
  },
  {
   "cell_type": "code",
   "execution_count": 18,
   "metadata": {},
   "outputs": [],
   "source": [
    "pred_rf=rf.predict(X_test_v)"
   ]
  },
  {
   "cell_type": "code",
   "execution_count": 19,
   "metadata": {},
   "outputs": [
    {
     "data": {
      "text/plain": [
       "(0.85650000000000004, 0.83374999999999999)"
      ]
     },
     "execution_count": 19,
     "metadata": {},
     "output_type": "execute_result"
    }
   ],
   "source": [
    "from sklearn.metrics import accuracy_score\n",
    "accuracy_score(y_test, pred_logloss),accuracy_score(y_test, pred_rf)"
   ]
  },
  {
   "cell_type": "code",
   "execution_count": 20,
   "metadata": {},
   "outputs": [
    {
     "name": "stdout",
     "output_type": "stream",
     "text": [
      "             precision    recall  f1-score   support\n",
      "\n",
      "          0       0.89      0.88      0.88      2500\n",
      "          1       0.80      0.82      0.81      1500\n",
      "\n",
      "avg / total       0.86      0.86      0.86      4000\n",
      "\n"
     ]
    }
   ],
   "source": [
    "from sklearn.metrics import classification_report\n",
    "print(classification_report(y_test, pred_logloss))"
   ]
  },
  {
   "cell_type": "code",
   "execution_count": 21,
   "metadata": {
    "scrolled": false
   },
   "outputs": [
    {
     "name": "stdout",
     "output_type": "stream",
     "text": [
      "             precision    recall  f1-score   support\n",
      "\n",
      "          0       0.81      0.97      0.88      2500\n",
      "          1       0.92      0.61      0.73      1500\n",
      "\n",
      "avg / total       0.85      0.83      0.82      4000\n",
      "\n"
     ]
    }
   ],
   "source": [
    "print(classification_report(y_test, pred_rf))"
   ]
  },
  {
   "cell_type": "markdown",
   "metadata": {},
   "source": [
    "    По нескольким параметрам логистическая регрессия показывает лучшие результаты, она и работает быстрее. Лес плохо применяется к задачам с разряженными матрицами обучающих выборок"
   ]
  },
  {
   "cell_type": "markdown",
   "metadata": {},
   "source": [
    "Посмотрев на указнные метрики, можно понять, что классификаторы неплохо справляются с нулевым классом и похуже — с первым. Скорее всего, это связано с тем, что положительных отзывов почти вдвое меньше. В дальнейшем нас будет интересовать как классификатор справляется именно с положительными отзывами (то есть первым классом). Раньше было замечено, что *accuracy* не самый подходящий способ измерения качества в данной задаче. Подходят ли оставшиеся две метрики для данной задачи? Эти метрики хороши тем, что могут быть использованы в случае несбалансированнх данных, однако сразу же две метрики оптимизировать не удобно. Поэтому рассмотрим другие подходы к оценке качества. \n",
    "\n",
    "Зачастую классификатор может возвращать не ответ *0* или *1*, а некоторую меру принадлежности заданному классу $b(x)$, которая сравнивается с фиксированным порогом *t*, и на самом деле классификатор имеет вид $a(x) = [b(x) > t]$. Таким образом, при оценивании качества работы классификатора можно использовать его ответ $b(x)$ и подбирать порог *t* исходя из некоторых других условий. Кроме того, выбор порога влияет на качество классификации:\n",
    " - чем больше $t$, тем выше точность, но ниже полнота,\n",
    " - чем меньше $t$, тем выше полнота, но ниже точность.\n",
    " \n",
    "### Precision-Recall кривая\n",
    "\n",
    "Раз мы умеем варьировать порог классификатора, тем самым меняя качество, интересно каким оно будет при всех возможных различных порогах. Для этого обычно строят следующий график: перебирают все пороги и по оси ОХ откладывают полноту получившегося классификатора, а по оси OY — точность. Таким образом, это дает хорошую наглядную визуализацию качества алгоритма.\n",
    "\n",
    "### ROC кривая\n",
    "\n",
    "Еще один из способ визуализации зависимости метрик качества от порога, подходящей в этом случае, является *ROC*. По осям: \n",
    " - OX: $FPR = \\frac{FP}{FP + TN}$\n",
    " - OY: $TPR = \\frac{TP}{TP + FN}$\n",
    "\n",
    "Кроме того, можно измерять площади под указанными кривыми — *auc_pr* и *auc_roc* соответственно."
   ]
  },
  {
   "cell_type": "markdown",
   "metadata": {},
   "source": [
    "**(1 балл) Задание 2.**\n",
    "\n",
    "Постройте *precision-recall* и *roc* кривые обученных выше классификаторов (каждый тип кривой на отдельном графике), а также вычислите площадь под ними. Для этого удобно воспользоваться функциями [precision_recall_curve](http://scikit-learn.org/stable/modules/generated/sklearn.metrics.precision_recall_curve.html), [roc_curve](http://scikit-learn.org/stable/modules/generated/sklearn.metrics.roc_curve.html) и [auc](http://scikit-learn.org/stable/modules/generated/sklearn.metrics.auc.html#sklearn.metrics.auc). Не забудьте, что в данном случае необходимо использовать метод *predict_proba* для получения оценки принадлежности к первому классу."
   ]
  },
  {
   "cell_type": "code",
   "execution_count": 22,
   "metadata": {
    "collapsed": true
   },
   "outputs": [],
   "source": [
    "import matplotlib.pyplot as plt\n",
    "from sklearn.metrics import precision_recall_curve, roc_curve, auc"
   ]
  },
  {
   "cell_type": "code",
   "execution_count": 23,
   "metadata": {},
   "outputs": [],
   "source": [
    "precision, recall, thresholds = precision_recall_curve(y_test, logloss.predict_proba(X_test_v).T[1])\n",
    "precision_rf, recall_rf, thresholds_rf = precision_recall_curve(y_test, rf.predict_proba(X_test_v).T[1])"
   ]
  },
  {
   "cell_type": "code",
   "execution_count": 24,
   "metadata": {},
   "outputs": [
    {
     "data": {
      "image/png": "[encoded data removed]",
      "text/plain": [
       "<matplotlib.figure.Figure at 0x10c79fef0>"
      ]
     },
     "metadata": {},
     "output_type": "display_data"
    }
   ],
   "source": [
    "plt.clf()\n",
    "plt.plot(recall, precision, color='navy')\n",
    "plt.plot(recall_rf, precision_rf, color='r')\n",
    "plt.xlabel('Recall')\n",
    "plt.ylabel('Precision')\n",
    "plt.show()"
   ]
  },
  {
   "cell_type": "markdown",
   "metadata": {},
   "source": [
    "Площади"
   ]
  },
  {
   "cell_type": "code",
   "execution_count": 25,
   "metadata": {},
   "outputs": [
    {
     "data": {
      "text/plain": [
       "(0.88884145152799232, 0.89540609332605592)"
      ]
     },
     "execution_count": 25,
     "metadata": {},
     "output_type": "execute_result"
    }
   ],
   "source": [
    "auc(recall,precision),auc(recall_rf,precision_rf)"
   ]
  },
  {
   "cell_type": "code",
   "execution_count": 26,
   "metadata": {
    "collapsed": true
   },
   "outputs": [],
   "source": [
    "fpr, tpr, thresholds = roc_curve(y_test, logloss.predict_proba(X_test_v).T[1])\n",
    "fpr_rf, tpr_rf, thresholds_rf = roc_curve(y_test, rf.predict_proba(X_test_v).T[1])"
   ]
  },
  {
   "cell_type": "code",
   "execution_count": 27,
   "metadata": {},
   "outputs": [
    {
     "data": {
      "image/png": "[encoded data removed]",
      "text/plain": [
       "<matplotlib.figure.Figure at 0x12b886320>"
      ]
     },
     "metadata": {},
     "output_type": "display_data"
    }
   ],
   "source": [
    "plt.clf()\n",
    "plt.plot(fpr, tpr, color='navy')\n",
    "plt.plot(fpr_rf, tpr_rf, color='r')\n",
    "plt.xlabel('FPR')\n",
    "plt.ylabel('TPR')\n",
    "plt.show()"
   ]
  },
  {
   "cell_type": "markdown",
   "metadata": {},
   "source": [
    "Площади"
   ]
  },
  {
   "cell_type": "code",
   "execution_count": 28,
   "metadata": {},
   "outputs": [
    {
     "data": {
      "text/plain": [
       "(0.92364026666666665, 0.93154559999999997)"
      ]
     },
     "execution_count": 28,
     "metadata": {},
     "output_type": "execute_result"
    }
   ],
   "source": [
    "auc(fpr, tpr), auc(fpr_rf, tpr_rf)"
   ]
  },
  {
   "cell_type": "markdown",
   "metadata": {},
   "source": [
    "Если мы хотим, чтобы классификатор находил, например, не менее 80% положительных отзывов, то необходимо потребовать, чтобы полнота была не менее 0.8. \n",
    "\n",
    "**(0.5 балла) Задание 3.**\n",
    "\n",
    "Найдите наибольшую точность, которую будет иметь каждый классификатор при полноте не менее 0.8."
   ]
  },
  {
   "cell_type": "code",
   "execution_count": 29,
   "metadata": {},
   "outputs": [
    {
     "data": {
      "text/plain": [
       "(0.82284541723666216, 0.82806052269601105)"
      ]
     },
     "execution_count": 29,
     "metadata": {},
     "output_type": "execute_result"
    }
   ],
   "source": [
    "np.max(precision[np.where(recall>0.8)]),np.max(precision_rf[np.where(recall_rf>0.8)])"
   ]
  },
  {
   "cell_type": "markdown",
   "metadata": {},
   "source": [
    "В дальнейшем для экпериментов будем использовать логистическую регрессию. Можно заметить, что по некоторым причинам мы не находили оптимальные параметры для алгоритмов, а работали с параметрами по умолчанию. Чтобы исправить этот недостаток, в дальнейшем используйте кросс-валидацию по 5 блокам для нахождения наилучшего параметра *C* у логистической регрессии. Для этого удобно использовать класс [LogisticRegressionCV](http://scikit-learn.org/stable/modules/generated/sklearn.linear_model.LogisticRegressionCV.html) с оптимизацией *roc_auc*. Значения параметра *C* можно перебирать по логарифмической шкале и ограничиться 3-5 значениями.\n",
    "\n",
    "А теперь вернемся к исходной задаче. На данном этапе решения можно прийти к выводу, что предложенное кодирование текста может быть не самым удачным. Это ведет как к ситуации, что не всякий алгоритм может быть применен в данной задаче по причине слишком большого признакового пространства, а кроме того, даже быстрые алгоритмы при наличии кросс-валидации могут начать работать медленно. Также в данных может быть шум, так как в качестве словаря были взяты все слова, даже те, которые встречались в одном-двух отзывах (например, опечатки). Поэтому кажется что неплохо было бы сократить размерность данных и по возможности избавиться от шума. \n",
    "\n",
    "## Отбор признаков и уменьшение размерности\n",
    "\n",
    "### По частоте\n",
    "Попробуем сформировать выборку, в которой будут находиться только самые \"важные\" признаки, то есть в данном случае слова. Например, это можно сделать оставив топ слов по частоте. Кажется, что вхождение наиболее частых слов в отзыве, например *good*, *bad* и т.д. являются вполне неплохими показателями.\n",
    "\n",
    "### С помощью машинного обучения\n",
    "Другой подход — воспользоваться имеющимся машинным обучением — обученным на всех признаках случайным лесом. Одним из свойств случайного леса является оценка важности признаков. Таким образом, можно выбрать топ слов, важных как признаки для задачи классификации. \n",
    "\n",
    "### Hashing trick\n",
    "Какие еще могут быть способы работы с такого рода данными? По факту слова в текстах — это некоторое очень разреженное представление (как мы убедились выше). Подходом, отличным от двух вышеперечисленных, является [хэширование](https://en.wikipedia.org/wiki/Feature_hashing) или hashing trick: каждому слову сопоставляется некоторый хэш, после чего делается, например, bag-of-words. Из-за коллизий можно обработать не встречавшихся ранее слов. Этот подход реализован в классе [HashingVectorizer](http://scikit-learn.org/stable/modules/generated/sklearn.feature_extraction.text.HashingVectorizer.html). Кроме того, если выставить параметр *non_negative=True*, то можно интерпретировать полученные значения как некоторые \"частоты\".\n",
    "\n",
    "Можно заметить, что два последних подхода можно применять не обязательно к текстовым данным."
   ]
  },
  {
   "cell_type": "markdown",
   "metadata": {},
   "source": [
    "**(1 балл) Задание 4.**\n",
    "\n",
    "Сформируйте три новые выборки, где каждый объект будет иметь 15000 признаков, следующим образом:\n",
    " - топ самых частотных слов\n",
    " - топ наиболее \"важных\" слов с помощью случайного леса\n",
    " - с помощью хэширования\n",
    " \n",
    "(и не забывайте фильтровать стоп-слова).\n",
    "\n",
    "На четырех выборках (*bag-of-words* и трех новых) постройте *roc*-кривые, вычислив площадь под ними. Что вы можете сказать о качестве этих подходов к сокращению размерности?\n",
    "\n",
    "Выведите топ20 самых важных слов от случайного леса и сравните их с топ20 наиболее частотных. Много ли общих слов?"
   ]
  },
  {
   "cell_type": "code",
   "execution_count": 30,
   "metadata": {},
   "outputs": [],
   "source": [
    "fvectorizer = CountVectorizer(max_features = 15000,stop_words='english')\n",
    "X_tr_freq = fvectorizer.fit_transform(X_train.review)\n",
    "X_tr_freq.columns=fvectorizer.vocabulary_.keys()"
   ]
  },
  {
   "cell_type": "code",
   "execution_count": 31,
   "metadata": {
    "collapsed": true
   },
   "outputs": [],
   "source": [
    "X_test_freq = fvectorizer.transform(X_test.review)\n",
    "X_test_freq.columns=fvectorizer.vocabulary_.keys()"
   ]
  },
  {
   "cell_type": "code",
   "execution_count": 32,
   "metadata": {},
   "outputs": [],
   "source": [
    "fi = np.argsort(rf.feature_importances_)[::-1][:15000]\n",
    "X_tr_fi = (X_tr_v.T[fi]).T\n",
    "X_test_fi = (X_test_v.T[fi]).T"
   ]
  },
  {
   "cell_type": "code",
   "execution_count": 33,
   "metadata": {},
   "outputs": [],
   "source": [
    "from sklearn.feature_extraction.text import HashingVectorizer\n",
    "hvectorizer = HashingVectorizer(stop_words='english', non_negative=True,n_features=15000)"
   ]
  },
  {
   "cell_type": "code",
   "execution_count": 34,
   "metadata": {},
   "outputs": [],
   "source": [
    "X_tr_h = hvectorizer.fit_transform(X_train.review)\n",
    "X_test_h = hvectorizer.transform(X_test.review)"
   ]
  },
  {
   "cell_type": "code",
   "execution_count": 35,
   "metadata": {
    "collapsed": true
   },
   "outputs": [],
   "source": [
    "from sklearn.linear_model import LogisticRegressionCV\n",
    "loglosscv=LogisticRegressionCV(Cs=[0.01,0.1,1,10],cv=5)"
   ]
  },
  {
   "cell_type": "code",
   "execution_count": 36,
   "metadata": {},
   "outputs": [
    {
     "data": {
      "text/plain": [
       "LogisticRegressionCV(Cs=[0.01, 0.1, 1, 10], class_weight=None, cv=5,\n",
       "           dual=False, fit_intercept=True, intercept_scaling=1.0,\n",
       "           max_iter=100, multi_class='ovr', n_jobs=1, penalty='l2',\n",
       "           random_state=None, refit=True, scoring=None, solver='lbfgs',\n",
       "           tol=0.0001, verbose=0)"
      ]
     },
     "execution_count": 36,
     "metadata": {},
     "output_type": "execute_result"
    }
   ],
   "source": [
    "loglosscv.fit(X_tr_freq,y_train)"
   ]
  },
  {
   "cell_type": "code",
   "execution_count": 37,
   "metadata": {
    "collapsed": true
   },
   "outputs": [],
   "source": [
    "fpr, tpr, thresholds = roc_curve(y_test, loglosscv.predict_proba(X_test_freq).T[1])"
   ]
  },
  {
   "cell_type": "code",
   "execution_count": 38,
   "metadata": {},
   "outputs": [
    {
     "data": {
      "text/plain": [
       "LogisticRegressionCV(Cs=[0.01, 0.1, 1, 10], class_weight=None, cv=5,\n",
       "           dual=False, fit_intercept=True, intercept_scaling=1.0,\n",
       "           max_iter=100, multi_class='ovr', n_jobs=1, penalty='l2',\n",
       "           random_state=None, refit=True, scoring=None, solver='lbfgs',\n",
       "           tol=0.0001, verbose=0)"
      ]
     },
     "execution_count": 38,
     "metadata": {},
     "output_type": "execute_result"
    }
   ],
   "source": [
    "loglosscv.fit(X_tr_fi,y_train)"
   ]
  },
  {
   "cell_type": "code",
   "execution_count": 39,
   "metadata": {
    "collapsed": true
   },
   "outputs": [],
   "source": [
    "fpr_fi, tpr_fi, thresholds_fi = roc_curve(y_test, loglosscv.predict_proba(X_test_fi).T[1])"
   ]
  },
  {
   "cell_type": "code",
   "execution_count": 40,
   "metadata": {},
   "outputs": [
    {
     "data": {
      "text/plain": [
       "LogisticRegressionCV(Cs=[0.01, 0.1, 1, 10], class_weight=None, cv=5,\n",
       "           dual=False, fit_intercept=True, intercept_scaling=1.0,\n",
       "           max_iter=100, multi_class='ovr', n_jobs=1, penalty='l2',\n",
       "           random_state=None, refit=True, scoring=None, solver='lbfgs',\n",
       "           tol=0.0001, verbose=0)"
      ]
     },
     "execution_count": 40,
     "metadata": {},
     "output_type": "execute_result"
    }
   ],
   "source": [
    "loglosscv.fit(X_tr_h,y_train)"
   ]
  },
  {
   "cell_type": "code",
   "execution_count": 41,
   "metadata": {
    "collapsed": true
   },
   "outputs": [],
   "source": [
    "fpr_h, tpr_h, thresholds_h = roc_curve(y_test, loglosscv.predict_proba(X_test_h).T[1])"
   ]
  },
  {
   "cell_type": "code",
   "execution_count": 42,
   "metadata": {},
   "outputs": [
    {
     "data": {
      "text/plain": [
       "LogisticRegressionCV(Cs=[0.01, 0.1, 1, 10], class_weight=None, cv=5,\n",
       "           dual=False, fit_intercept=True, intercept_scaling=1.0,\n",
       "           max_iter=100, multi_class='ovr', n_jobs=1, penalty='l2',\n",
       "           random_state=None, refit=True, scoring=None, solver='lbfgs',\n",
       "           tol=0.0001, verbose=0)"
      ]
     },
     "execution_count": 42,
     "metadata": {},
     "output_type": "execute_result"
    }
   ],
   "source": [
    "loglosscv.fit(X_tr_v,y_train)"
   ]
  },
  {
   "cell_type": "code",
   "execution_count": 43,
   "metadata": {
    "collapsed": true
   },
   "outputs": [],
   "source": [
    "fpr_v, tpr_v, thresholds_v = roc_curve(y_test, loglosscv.predict_proba(X_test_v).T[1])"
   ]
  },
  {
   "cell_type": "code",
   "execution_count": 44,
   "metadata": {
    "scrolled": true
   },
   "outputs": [
    {
     "data": {
      "image/png": "[encoded data removed]",
      "text/plain": [
       "<matplotlib.figure.Figure at 0x130972e80>"
      ]
     },
     "metadata": {},
     "output_type": "display_data"
    }
   ],
   "source": [
    "plt.clf()\n",
    "plt.plot(fpr, tpr, color='navy', label='freq_auc = {0:0.4f})'\n",
    "               ''.format(auc(fpr,tpr)))\n",
    "plt.plot(fpr_fi, tpr_fi, color='r', label='features_imp_auc = {0:0.4f})'\n",
    "               ''.format(auc(fpr_fi,tpr_fi)))\n",
    "plt.plot(fpr_h, tpr_h, color='g', label='hash_auc = {0:0.4f})'\n",
    "               ''.format(auc(fpr_h,tpr_h)))\n",
    "plt.plot(fpr_v, tpr_v, color='y', label='bag_of_words_auc = {0:0.4f})'\n",
    "               ''.format(auc(fpr_v,tpr_v)))\n",
    "plt.xlabel('FPR')\n",
    "plt.ylabel('TPR')\n",
    "plt.legend(loc=\"lower right\")\n",
    "plt.show()"
   ]
  },
  {
   "cell_type": "markdown",
   "metadata": {},
   "source": [
    "Все методы сокращения размерности показали примерно одинаковые хорошие результаты и работали быстрее, чем bag of words/ Лучший - выбор частовстречающихся слов"
   ]
  },
  {
   "cell_type": "code",
   "execution_count": 45,
   "metadata": {},
   "outputs": [
    {
     "name": "stdout",
     "output_type": "stream",
     "text": [
      "bad\n",
      "great\n",
      "worst\n",
      "waste\n",
      "excellent\n",
      "wonderful\n",
      "best\n",
      "awful\n",
      "perfect\n",
      "terrible\n",
      "movie\n",
      "boring\n",
      "plot\n",
      "worse\n",
      "just\n",
      "love\n",
      "amazing\n",
      "poor\n",
      "stupid\n",
      "don\n"
     ]
    }
   ],
   "source": [
    "for f in range(20):\n",
    "    print(list(vectorizer.vocabulary_.keys())[list(vectorizer.vocabulary_.values()).index(fi[f])])"
   ]
  },
  {
   "cell_type": "code",
   "execution_count": 46,
   "metadata": {},
   "outputs": [
    {
     "data": {
      "text/plain": [
       "['time',\n",
       " 'movie',\n",
       " 'bad',\n",
       " 'like',\n",
       " 'movies',\n",
       " 'watch',\n",
       " 'way',\n",
       " 'story',\n",
       " 'really',\n",
       " 'good',\n",
       " 'great',\n",
       " 'just',\n",
       " 'think',\n",
       " 'br',\n",
       " 'film',\n",
       " 'don',\n",
       " 'characters',\n",
       " 'make',\n",
       " 'plot',\n",
       " 'people']"
      ]
     },
     "execution_count": 46,
     "metadata": {},
     "output_type": "execute_result"
    }
   ],
   "source": [
    "tfvectorizer = CountVectorizer(max_features = 20,stop_words = 'english')\n",
    "tfvectorizer.fit(X_train.review)\n",
    "list(tfvectorizer.vocabulary_.keys())"
   ]
  },
  {
   "cell_type": "markdown",
   "metadata": {},
   "source": [
    "Общие слова есть, прилагательные, характеризующие отношение. Random forest выбирал их важными"
   ]
  },
  {
   "cell_type": "markdown",
   "metadata": {},
   "source": [
    "Таким образом, удалось сократить размерность более чем в три раза без сильной потери в качестве. Но даже 15000 признаков — это достаточно много. Допустим, мы хотим уменьшить размерность до 2000 признаков, однако можно заметить, что даже три предыдущие способа давали небольшое ухудшение в качестве. \n",
    "\n",
    "### PCA\n",
    "\n",
    "Одним из способов сокращения размерности является [PCA](https://en.wikipedia.org/wiki/Principal_component_analysis) (метод главных компонент). Это преобразование позволяет получить вес каждого признака в компоненте. Например, если применить его к bag-of-words, можно найти наиболее важные слова, влияющие на данную компоненту. Для работы с большими разреженными матрицами в sklearn рекомендуется использовать [TruncatedSVD](http://scikit-learn.org/stable/modules/generated/sklearn.decomposition.TruncatedSVD.html). Обратите внимание, что обучение этого преобразования может работать около 3-5 минут.\n",
    "\n",
    "**(1 балл) Задание 5.**\n",
    "\n",
    "Попробуйте сократить размерность до 2000 двумя способами:\n",
    " - наилучшим из трех предыдущих\n",
    " - для выборки со всеми признаками обучите *PCA*-преобразование \n",
    "\n",
    "Постройте новый график качества. Какой из двух подходов работает лучше?\n",
    "\n",
    "Для первых трех компонент преобразования найдите топ30 наиболее важных слов. Можете ли вы охарактеризовать как-то каждую из этих групп?"
   ]
  },
  {
   "cell_type": "code",
   "execution_count": 126,
   "metadata": {},
   "outputs": [],
   "source": [
    "from sklearn.decomposition import TruncatedSVD\n",
    "TR = TruncatedSVD(n_components=20000,  random_state=4)"
   ]
  },
  {
   "cell_type": "code",
   "execution_count": null,
   "metadata": {
    "collapsed": true
   },
   "outputs": [],
   "source": [
    "X_tr_pca = TR.fit_transform(X_tr_v)"
   ]
  },
  {
   "cell_type": "markdown",
   "metadata": {},
   "source": [
    "Dead kernel все время получался"
   ]
  },
  {
   "cell_type": "code",
   "execution_count": null,
   "metadata": {
    "collapsed": true
   },
   "outputs": [],
   "source": [
    "X_test_pca = TR.transform(X_test_v)"
   ]
  },
  {
   "cell_type": "markdown",
   "metadata": {},
   "source": [
    "### Какие еще могут быть способы обработки текстовых данных?\n",
    "\n",
    "Как можно заметить, подход с мешком слов весьма наивен, так как не позволяет учесть информацию в скольки отзывах встречалось слово (чтобы избавиться от очень редких слов, например). В этом случае может помочь, например, [tf-idf кодирование](http://scikit-learn.org/stable/modules/generated/sklearn.feature_extraction.text.TfidfVectorizer.html).\n",
    "\n",
    "Другой недостаток описанного в задании подхода — брать абсолютные частоты. У некоторых слов они могут быть очень большими, в то же время у других — низкими. Чтобы \"сгладить\" разницу между ними, можно их отлогарифмировать, т.е. применить преобразование $x \\to log(x + 1)$ (так как при bag-of-words кодировании могут встречаться 0).\n",
    "\n",
    "Неплохое руководство можно найти в разделе [извлечения признаков](http://scikit-learn.org/stable/modules/feature_extraction.html#text-feature-extraction) из документации sklearn.\n"
   ]
  },
  {
   "cell_type": "markdown",
   "metadata": {},
   "source": [
    "## Stacking\n",
    "\n",
    "Итак, сейчас имеется несколько разных способов охарактеризовать исходный датасет:\n",
    " - bag-of-words\n",
    " - bag-of-words для 15000 наиболее частотных слов\n",
    " - bag-of-words для 15000 наиболее важных признаков\n",
    " - признаки, полученные в результате хэширования\n",
    " - применение PCA для bag-of-words\n",
    "\n",
    "Во второй лабораторной вы пробовали линейно смешивать несколько классификаторов для улучшения итогового качества, перебирая коэффициенты смешивания по сетке. А вообще говоря, подбор оптимальных линейных коэффициентов — это задача обучения линейной модели, которую мы уже давно изучаем в курсе. Так что давайте попробуем смешивать базовые алгоритмы, подбирая коэффициенты с помощью обученной поверх их предсказаний линейной мета-модели. В этом случае схема обучения будет выглядеть следующим образом:\n",
    "\n",
    "![](http://cse-wiki.unl.edu/wiki/images/5/54/Combining_classifiers_overview.png)\n",
    "\n",
    "Такой подход, когда предсказания одних алгоритмов подаются на вход другому алгоритму, называется stacking. Плюс такого подхода будет заключаться в том, что новое признаковое описание будет небольшим, поэтому можно легко использовать любые известные вам методы."
   ]
  },
  {
   "cell_type": "markdown",
   "metadata": {},
   "source": [
    "**(1.5 балла) Задание 6.**\n",
    "\n",
    " - Объясните, будет ли происходить переобучение, если обучать базовые алгоритмы и мета-модель на одной и той же выборке? Для простоты можете представить, что в качестве базового алгоритма используется 1-NN.\n",
    " - Для начала разделите каждую обучающую выборку на две части и на одной из частей обучите базовые классификаторы (в данном случае — логистическую регрессию). Сделайте разделение таким образом, чтобы для обучения мета-алгоритма осталось 4000 объектов.\n",
    " - Сделайте предсказание этих классификаторов на оставшейся части\n",
    " - На ответах классификаторов обучите новый классификатор, который и будет являться мета-алгоритмом. В качестве мета-классификатора рассматрите SVM с линейным ядром, логистическую регрессию и случайный лес со 100 деревьями. \n",
    "\n",
    "Для всех ли мета-классификаторов этот подход дал прирост в качестве?"
   ]
  },
  {
   "cell_type": "code",
   "execution_count": 65,
   "metadata": {
    "collapsed": true
   },
   "outputs": [],
   "source": [
    "X_meta=pd.DataFrame(columns=['freq','fi','hash','bow'])"
   ]
  },
  {
   "cell_type": "code",
   "execution_count": 66,
   "metadata": {},
   "outputs": [],
   "source": [
    "loglosscv.fit(X_tr_freq,y_train)\n",
    "X_meta['freq']=loglosscv.predict(X_test_freq)"
   ]
  },
  {
   "cell_type": "code",
   "execution_count": 67,
   "metadata": {},
   "outputs": [],
   "source": [
    "loglosscv.fit(X_tr_fi,y_train)\n",
    "X_meta['fi']=loglosscv.predict(X_test_fi)"
   ]
  },
  {
   "cell_type": "code",
   "execution_count": 68,
   "metadata": {
    "collapsed": true
   },
   "outputs": [],
   "source": [
    "loglosscv.fit(X_tr_h,y_train)\n",
    "X_meta['hash']=loglosscv.predict(X_test_h)"
   ]
  },
  {
   "cell_type": "code",
   "execution_count": 69,
   "metadata": {
    "collapsed": true
   },
   "outputs": [],
   "source": [
    "loglosscv.fit(X_tr_v,y_train)\n",
    "X_meta['bow']=loglosscv.predict(X_test_v)"
   ]
  },
  {
   "cell_type": "code",
   "execution_count": 70,
   "metadata": {},
   "outputs": [
    {
     "data": {
      "text/plain": [
       "['X_test_meta.pkl']"
      ]
     },
     "execution_count": 70,
     "metadata": {},
     "output_type": "execute_result"
    }
   ],
   "source": [
    "joblib.dump(X_meta, 'X_test_meta.pkl')"
   ]
  },
  {
   "cell_type": "code",
   "execution_count": 79,
   "metadata": {},
   "outputs": [],
   "source": [
    "X_train_meta, X_test_meta, y_train_meta, y_test_meta= train_test_split(X_meta, y_test, test_size=0.3, random_state=5, stratify=y_test)"
   ]
  },
  {
   "cell_type": "code",
   "execution_count": 82,
   "metadata": {},
   "outputs": [
    {
     "name": "stdout",
     "output_type": "stream",
     "text": [
      "0.867111111111\n"
     ]
    }
   ],
   "source": [
    "from sklearn.svm import SVC\n",
    "svm = SVC(kernel='linear',probability=True)\n",
    "svm.fit(X_train_meta,y_train_meta)\n",
    "pred_svm = svm.predict_proba(X_test_meta)[:,1]\n",
    "fpr_svm, tpr_svm, thresholds = roc_curve(y_test_meta, pred_svm)\n",
    "auc_svm = auc(fpr_svm, tpr_svm)\n",
    "print(auc_svm)"
   ]
  },
  {
   "cell_type": "code",
   "execution_count": 85,
   "metadata": {},
   "outputs": [
    {
     "name": "stdout",
     "output_type": "stream",
     "text": [
      "0.885407407407\n"
     ]
    }
   ],
   "source": [
    "from sklearn.linear_model import LogisticRegression\n",
    "logloss = LogisticRegression()\n",
    "logloss.fit(X_train_meta,y_train_meta)\n",
    "pred_logloss = logloss.predict_proba(X_test_meta)[:,1]\n",
    "fpr_logloss, tpr_logloss, thresholds = roc_curve(y_test_meta, pred_logloss)\n",
    "auc_logloss = auc(fpr_logloss, tpr_logloss)\n",
    "print(auc_logloss)"
   ]
  },
  {
   "cell_type": "code",
   "execution_count": 86,
   "metadata": {},
   "outputs": [
    {
     "name": "stdout",
     "output_type": "stream",
     "text": [
      "0.882257777778\n"
     ]
    }
   ],
   "source": [
    "rf = RandomForestClassifier(n_estimators=100)\n",
    "rf.fit(X_train_meta,y_train_meta)\n",
    "pred_rf = rf.predict_proba(X_test_meta)[:,1]\n",
    "fpr_rf, tpr_rf, thresholds = roc_curve(y_test_meta, pred_rf)\n",
    "auc_rf = auc(fpr_rf, tpr_rf)\n",
    "print(auc_rf)"
   ]
  },
  {
   "cell_type": "code",
   "execution_count": 91,
   "metadata": {},
   "outputs": [],
   "source": [
    "X_train_2, X_test_2, y_train_2, y_test_2 = train_test_split(X_test_freq, y_test, test_size=0.3, random_state=5, stratify=y_test)"
   ]
  },
  {
   "cell_type": "code",
   "execution_count": 95,
   "metadata": {},
   "outputs": [
    {
     "data": {
      "text/plain": [
       "LogisticRegression(C=1.0, class_weight=None, dual=False, fit_intercept=True,\n",
       "          intercept_scaling=1, max_iter=100, multi_class='ovr', n_jobs=1,\n",
       "          penalty='l2', random_state=None, solver='liblinear', tol=0.0001,\n",
       "          verbose=0, warm_start=False)"
      ]
     },
     "execution_count": 95,
     "metadata": {},
     "output_type": "execute_result"
    }
   ],
   "source": [
    "logloss.fit(X_train_2,y_train_2)"
   ]
  },
  {
   "cell_type": "code",
   "execution_count": 96,
   "metadata": {
    "collapsed": true
   },
   "outputs": [],
   "source": [
    "fpr_2, tpr_2, thresholds = roc_curve(y_test_2, logloss.predict_proba(X_test_2).T[1])"
   ]
  },
  {
   "cell_type": "code",
   "execution_count": 97,
   "metadata": {
    "scrolled": true
   },
   "outputs": [
    {
     "data": {
      "text/plain": [
       "0.89914962962962952"
      ]
     },
     "execution_count": 97,
     "metadata": {},
     "output_type": "execute_result"
    }
   ],
   "source": [
    "auc(fpr_2, tpr_2)"
   ]
  },
  {
   "cell_type": "markdown",
   "metadata": {},
   "source": [
    "Метаподход не дал прироста, может быть, из-за плохо подобранных гиперпараметров."
   ]
  },
  {
   "cell_type": "markdown",
   "metadata": {},
   "source": [
    "## Подбор гиперпараметров\n",
    "\n",
    "Вы уже знаете, что для подбора гиперпараметров есть способ перебора по сетке. Обычно перебор некоторых значений гиперпараметров ведется по логарифмической шкале, так как это позволяет быстрее определить какого порядка должен быть параметр, и в то же время значительно уменьшить время поиска. Последний нюанс бывает особо критичен, т.к. для каждого фиксированного набора параметров происходит обучение алгритма и оценка качества. \n",
    "\n",
    "Однако такой подход к нахождению гиперпараметров является не единственно возможным. Рассмотрим более конкретно в чем может заключаться недостаток предыдущего подхода. Допустим, вам нужно подобрать 2 гиперпараметра, для каждого из которых есть сетка из 4 возможных значений. То есть всего 16 итераций обучения по сетке. Допустим также, что для оценки качества используется 5-fold CV. В итоге имеем 80 переобучений алгоритма, что уже немало. А если, например, рассмотреть случаный лес, где гиперпараметрами могут являться критерий ветвления, максимальная глубина деревьев, минимальное число объектов в листьях, максимальное число признаков, количество листьев и так далее, может получиться экспоненциально большое число переобучений, что займёт очень много времени. Для того чтобы как-то ускорить процесс и в то же время найти близкие к оптимальным значения используют случайный поиск по сетке. В этом случае для каждого гиперпараметра задается распределение, из которого он выбирается. И так как каждый раз значение каждого гиперпараметра выбирается случайно, это позволяет находить оптимальные значения быстрее. \n",
    "\n",
    "Если сравнить случайный поиск с обычным, то это можно проиллюстрировать, например, следующим образом:\n",
    "\n",
    "![](http://blog.kaggle.com/wp-content/uploads/2015/07/scikitlearn8.jpeg)\n",
    "\n",
    "Более подробно можно прочитать тут:\n",
    " - теоретический анализ случайного поиска [Random Search for Hyper-Parameter Optimization](http://jmlr.csail.mit.edu/papers/volume13/bergstra12a/bergstra12a.pdf)\n",
    " - кратко и с юмором [Smarter Parameter Sweeps (or Why Grid Search Is Plain Stupid)](https://medium.com/rants-on-machine-learning/smarter-parameter-sweeps-or-why-grid-search-is-plain-stupid-c17d97a0e881#.pkwq17od8)\n",
    " \n",
    "В sklearn случайный поиск по сетке реализован в классе [RandomizedSearchCV](http://scikit-learn.org/stable/modules/generated/sklearn.grid_search.RandomizedSearchCV.html)."
   ]
  },
  {
   "cell_type": "markdown",
   "metadata": {},
   "source": [
    "Давайте попробуем сравнить описанные подходы на практике. А именно, посмотрим, как ведет себя обычный и случайный поиск по сетке при одинаковом бюджете (то есть числе итераций). Попробуем найти аптимальные гиперпараметры для мета-классификатора выше: SVM с линейным ядром. В данном случае нам будет интересны найти значения у двух параметров: *C* и количество итераций *max_iter*. Для обоих гиперпараметров возьмите логарифмическую шкалу, для *C* от 0.1 до 100, для *max_iter* от 1000 до 10000 (см. функцию [logspace](http://docs.scipy.org/doc/numpy-1.10.0/reference/generated/numpy.logspace.html)). В качестве оптимизируемой метрики качества выберем *AUC-ROC*.\n",
    "\n",
    "**(2 балла) Задание 7.**\n",
    "\n",
    " - Для простого поиска по сетке подготовьте 5 сеток гиперпараметров, так чтобы каждый у каждого гиперпараметра перебиралось 2, 3, 4, 5 и 6 значений в соответствующей сетке. Таким образом у вас получится 5 запусков поиска параметров с бюджетом 4, 9, 16, 25, 36. \n",
    "\n",
    " - Для случайного поиска сделайте 5 запусков поиска гиперпараметров с числом итераций (бюджетом) 4, 9, 16, 25, 36. \n",
    "\n",
    " - Для каждого из запусков алгоритма подбора гиперпараметров (одного — обычной и 5 для случайной) вычислите наилучшее достигнутое качество для каждого бюджета. После чего постройте график, где по оси OX будет отложен бюджет, а по оси OY — наилучшее качество. \n",
    " \n",
    "Что вы можете сказать о получившемся графике? Посмотрите на наилучшие параметры, которые у вас получились. Можно ли сказать, что какой-то из параметров больше влияет на результат? Можно ли сделать вывод, что случайный поиск проигрывает? Или наоборот? Зависит ли ответ на предыдущий вопрос от размера бюджета или удачной инициализации?\n",
    "\n",
    "Обратите внимание, что данная часть лабораторной работы может работать долго. Поэтому рекомендуем обратить внимание на параметр *n_jobs* поиска по сетке (есть у обоих классов)."
   ]
  },
  {
   "cell_type": "code",
   "execution_count": 117,
   "metadata": {},
   "outputs": [],
   "source": [
    "svm = SVC( kernel='linear',probability = True)\n",
    "params = [{'C':np.logspace(-1,2, num=2),'max_iter':np.logspace(3,4, num=2).astype(int)},\\\n",
    "    {'C':np.logspace(-1,2, num=3),'max_iter':np.logspace(3,4, num=3).astype(int)},\\\n",
    "    {'C':np.logspace(-1,2, num=4),'max_iter':np.logspace(3,4, num=4).astype(int)},\\\n",
    "    {'C':np.logspace(-1,2, num=5),'max_iter':np.logspace(3,4, num=5).astype(int)},\\\n",
    "    {'C':np.logspace(-1,2, num=6),'max_iter':np.logspace(3,4, num=6).astype(int)}]\n"
   ]
  },
  {
   "cell_type": "code",
   "execution_count": 118,
   "metadata": {
    "scrolled": true
   },
   "outputs": [
    {
     "name": "stderr",
     "output_type": "stream",
     "text": [
      "/Library/Frameworks/Python.framework/Versions/3.6/lib/python3.6/site-packages/sklearn/svm/base.py:220: ConvergenceWarning: Solver terminated early (max_iter=1000).  Consider pre-processing your data with StandardScaler or MinMaxScaler.\n",
      "  % self.max_iter, ConvergenceWarning)\n",
      "/Library/Frameworks/Python.framework/Versions/3.6/lib/python3.6/site-packages/sklearn/svm/base.py:220: ConvergenceWarning: Solver terminated early (max_iter=1000).  Consider pre-processing your data with StandardScaler or MinMaxScaler.\n",
      "  % self.max_iter, ConvergenceWarning)\n",
      "/Library/Frameworks/Python.framework/Versions/3.6/lib/python3.6/site-packages/sklearn/svm/base.py:220: ConvergenceWarning: Solver terminated early (max_iter=1000).  Consider pre-processing your data with StandardScaler or MinMaxScaler.\n",
      "  % self.max_iter, ConvergenceWarning)\n",
      "/Library/Frameworks/Python.framework/Versions/3.6/lib/python3.6/site-packages/sklearn/svm/base.py:220: ConvergenceWarning: Solver terminated early (max_iter=1000).  Consider pre-processing your data with StandardScaler or MinMaxScaler.\n",
      "  % self.max_iter, ConvergenceWarning)\n",
      "/Library/Frameworks/Python.framework/Versions/3.6/lib/python3.6/site-packages/sklearn/svm/base.py:220: ConvergenceWarning: Solver terminated early (max_iter=1000).  Consider pre-processing your data with StandardScaler or MinMaxScaler.\n",
      "  % self.max_iter, ConvergenceWarning)\n",
      "/Library/Frameworks/Python.framework/Versions/3.6/lib/python3.6/site-packages/sklearn/svm/base.py:220: ConvergenceWarning: Solver terminated early (max_iter=1000).  Consider pre-processing your data with StandardScaler or MinMaxScaler.\n",
      "  % self.max_iter, ConvergenceWarning)\n",
      "/Library/Frameworks/Python.framework/Versions/3.6/lib/python3.6/site-packages/sklearn/svm/base.py:220: ConvergenceWarning: Solver terminated early (max_iter=1000).  Consider pre-processing your data with StandardScaler or MinMaxScaler.\n",
      "  % self.max_iter, ConvergenceWarning)\n",
      "/Library/Frameworks/Python.framework/Versions/3.6/lib/python3.6/site-packages/sklearn/svm/base.py:220: ConvergenceWarning: Solver terminated early (max_iter=1000).  Consider pre-processing your data with StandardScaler or MinMaxScaler.\n",
      "  % self.max_iter, ConvergenceWarning)\n",
      "/Library/Frameworks/Python.framework/Versions/3.6/lib/python3.6/site-packages/sklearn/svm/base.py:220: ConvergenceWarning: Solver terminated early (max_iter=1000).  Consider pre-processing your data with StandardScaler or MinMaxScaler.\n",
      "  % self.max_iter, ConvergenceWarning)\n",
      "/Library/Frameworks/Python.framework/Versions/3.6/lib/python3.6/site-packages/sklearn/svm/base.py:220: ConvergenceWarning: Solver terminated early (max_iter=1000).  Consider pre-processing your data with StandardScaler or MinMaxScaler.\n",
      "  % self.max_iter, ConvergenceWarning)\n",
      "/Library/Frameworks/Python.framework/Versions/3.6/lib/python3.6/site-packages/sklearn/svm/base.py:220: ConvergenceWarning: Solver terminated early (max_iter=1000).  Consider pre-processing your data with StandardScaler or MinMaxScaler.\n",
      "  % self.max_iter, ConvergenceWarning)\n",
      "/Library/Frameworks/Python.framework/Versions/3.6/lib/python3.6/site-packages/sklearn/svm/base.py:220: ConvergenceWarning: Solver terminated early (max_iter=1000).  Consider pre-processing your data with StandardScaler or MinMaxScaler.\n",
      "  % self.max_iter, ConvergenceWarning)\n",
      "/Library/Frameworks/Python.framework/Versions/3.6/lib/python3.6/site-packages/sklearn/svm/base.py:220: ConvergenceWarning: Solver terminated early (max_iter=1000).  Consider pre-processing your data with StandardScaler or MinMaxScaler.\n",
      "  % self.max_iter, ConvergenceWarning)\n",
      "/Library/Frameworks/Python.framework/Versions/3.6/lib/python3.6/site-packages/sklearn/svm/base.py:220: ConvergenceWarning: Solver terminated early (max_iter=1000).  Consider pre-processing your data with StandardScaler or MinMaxScaler.\n",
      "  % self.max_iter, ConvergenceWarning)\n"
     ]
    }
   ],
   "source": [
    "from sklearn.model_selection import GridSearchCV\n",
    "params_gs = []\n",
    "score_gs = []\n",
    "for i in range(5):\n",
    "    params_i = params[i]\n",
    "    clf = GridSearchCV(svm, params_i, cv = 5,scoring='roc_auc')\n",
    "    clf.fit(X_meta, y_test)\n",
    "    params_gs.append(clf.best_params_)\n",
    "    score_gs.append(clf.best_score_)"
   ]
  },
  {
   "cell_type": "code",
   "execution_count": 108,
   "metadata": {},
   "outputs": [],
   "source": [
    "from scipy.stats import uniform \n",
    "params = {'C':uniform(0.1, 100),'max_iter':uniform(1000, 10000)}"
   ]
  },
  {
   "cell_type": "code",
   "execution_count": 113,
   "metadata": {},
   "outputs": [],
   "source": [
    "from sklearn.grid_search import RandomizedSearchCV\n",
    "params_rs = []\n",
    "score_rs = []\n",
    "for i in range(2,7):\n",
    "    clf = RandomizedSearchCV(svm, param_distributions=params,scoring='roc_auc', n_iter=i*i)\n",
    "    clf.fit(X_meta, y_test)\n",
    "    params_rs.append(clf.best_params_)\n",
    "    score_rs.append(clf.best_score_)"
   ]
  },
  {
   "cell_type": "code",
   "execution_count": 119,
   "metadata": {},
   "outputs": [
    {
     "data": {
      "image/png": "[encoded data removed]",
      "text/plain": [
       "<matplotlib.figure.Figure at 0x1112a8710>"
      ]
     },
     "metadata": {},
     "output_type": "display_data"
    }
   ],
   "source": [
    "plt.plot(np.array( range(2,7)),np.array(score_gs))\n",
    "plt.xlabel('Budget')\n",
    "plt.ylabel('AUC')\n",
    "plt.title('GridSearch')\n",
    "plt.show()"
   ]
  },
  {
   "cell_type": "code",
   "execution_count": 120,
   "metadata": {},
   "outputs": [
    {
     "data": {
      "image/png": "[encoded data removed]",
      "text/plain": [
       "<matplotlib.figure.Figure at 0x112846dd8>"
      ]
     },
     "metadata": {},
     "output_type": "display_data"
    }
   ],
   "source": [
    "plt.plot(np.array( range(2,7)),np.array(score_rs))\n",
    "plt.xlabel('Budget')\n",
    "plt.ylabel('AUC')\n",
    "plt.title('RandomizedSearch')\n",
    "plt.show()"
   ]
  },
  {
   "cell_type": "code",
   "execution_count": 124,
   "metadata": {},
   "outputs": [
    {
     "data": {
      "text/plain": [
       "[0.88485466666666657,\n",
       " 0.88485466666666657,\n",
       " 0.88485466666666657,\n",
       " 0.88662133333333326,\n",
       " 0.89319733333333329]"
      ]
     },
     "execution_count": 124,
     "metadata": {},
     "output_type": "execute_result"
    }
   ],
   "source": [
    "score_gs"
   ]
  },
  {
   "cell_type": "code",
   "execution_count": 125,
   "metadata": {},
   "outputs": [
    {
     "data": {
      "text/plain": [
       "[0.8764168321170196,\n",
       " 0.8788280014185531,\n",
       " 0.8801403585937971,\n",
       " 0.8892339204199666,\n",
       " 0.8950616008072294]"
      ]
     },
     "execution_count": 125,
     "metadata": {},
     "output_type": "execute_result"
    }
   ],
   "source": [
    "score_rs"
   ]
  },
  {
   "cell_type": "code",
   "execution_count": 122,
   "metadata": {},
   "outputs": [
    {
     "data": {
      "text/plain": [
       "[{'C': 0.10000000000000001, 'max_iter': 1000},\n",
       " {'C': 0.10000000000000001, 'max_iter': 1000},\n",
       " {'C': 0.10000000000000001, 'max_iter': 1000},\n",
       " {'C': 17.782794100389228, 'max_iter': 1000},\n",
       " {'C': 25.118864315095795, 'max_iter': 1000}]"
      ]
     },
     "execution_count": 122,
     "metadata": {},
     "output_type": "execute_result"
    }
   ],
   "source": [
    "params_gs"
   ]
  },
  {
   "cell_type": "code",
   "execution_count": 121,
   "metadata": {},
   "outputs": [
    {
     "data": {
      "text/plain": [
       "[{'C': 52.16668879410016, 'max_iter': 8502.2225316337153},\n",
       " {'C': 72.355502429589649, 'max_iter': 7396.6131942366446},\n",
       " {'C': 75.506465778318599, 'max_iter': 4498.8456281080316},\n",
       " {'C': 0.84585227748329428, 'max_iter': 5378.123725802694},\n",
       " {'C': 0.11948548586063748, 'max_iter': 8109.7450273608101}]"
      ]
     },
     "execution_count": 121,
     "metadata": {},
     "output_type": "execute_result"
    }
   ],
   "source": [
    "params_rs"
   ]
  },
  {
   "cell_type": "markdown",
   "metadata": {},
   "source": [
    "## Калибровка классификатора\n",
    "\n",
    "Для измерения качества классификации помимо описанных ранее метрик может использоваться, например, *logloss*. \n",
    "\n",
    "В бинарном случае эта метрика записывается как $$logloss = -\\dfrac{1}{N}\\sum_{i=1}^N (y_i\\log{p_i} + (1-y_i)\\log{(1 - p_i)})$$\n",
    "\n",
    "В отличии от *AUC-ROC*, для этой метрики необходимо, чтобы классификатор умел предсказывать вероятность принадлежности к классу, а не \"степени принадлежности классу 1\" в неопределенной шкале. Приведем пример. Вероятностная шкала может быть нужна, если вы хотите оценить количество денег, которые в среднем принесёт пользователь, кликнув на баннер. Для этого необходимо умножить количество денег, которые вы получаете за клик на баннер, на вероятность клика пользователя, которую предсказывает модель.\n",
    "\n",
    "К сожалению, на практике часто получается так, что либо классификатор не обладает желаемым свойством (например, SVM без специальных настроек), либо метод *predict_proba* возвращает некорректную вероятность (например, случайный лес возвращает среднее арифметическое вероятностей от каждого дерева, которое не обязано являться корректной вероятностью, подробнее [здесь](http://people.dsv.su.se/~henke/papers/bostrom08b.pdf)).\n",
    "\n",
    "В этом случае возможны несколько подходов: \n",
    " - заменить классификатор на тот, который умеет предсказывать вероятности\n",
    " - воспользоваться калибровкой ответов.\n",
    " \n",
    "Первый случай не всегда подходит, поэтому остановимся на втором. По умолчанию SVM может вычислять отступ от данного объекта до разделяющей гиперплоскости, а не возвращать вероятности. После чего можно обучить преобразование, которое бы искажало бы возвращаемое значение в вероятность  — это и называется калибровкой. Есть несколько известных методов для этого:\n",
    " - калибровка Платта;\n",
    " - изотоническая регрессия.\n",
    "\n",
    "Обратите внимание, что преобразование необходимо обучать на отложенной выборке (то есть классификатор и калибровка должны производиться на разных подмножествах данных), иначе можно переобучиться. Калибровку можно применять к любым классификаторам (где это разумно и необходимо), особенно к тем, которые не оптимизируют log-loss явно.\n",
    "\n",
    "Для калибровки классификатора в sklearn возможны два подхода:\n",
    " - взять уже обученный классификатор и откалибровать его на отложенной выборке\n",
    " - откалибровать по кросс-валидации: калибровочному классификатору передается вся обучающая выборка, которая внутри разбивается на обучающую и калибровочную, после чего происходит усреднение вероятностей по фолдам.\n",
    " \n",
    "Подробнее об этом можно прочитать в [документации](http://scikit-learn.org/stable/modules/generated/sklearn.calibration.CalibratedClassifierCV.html#sklearn.calibration.CalibratedClassifierCV). Также [здесь](https://jmetzen.github.io/2015-04-14/calibration.html) узнать подробности о калибровке в sklearn от автора."
   ]
  },
  {
   "cell_type": "markdown",
   "metadata": {},
   "source": [
    "**(2 балла) Задание 8.**\n",
    " \n",
    "Рассмотрим SVM из предыдущего пункта. Примените оба описанных выше подхода для калибровки Платта и изотонической регрессии. \n",
    " - Для каждого из подходов постройте график, на котором будут изображены [калибровочные кривые](http://scikit-learn.org/stable/modules/generated/sklearn.calibration.calibration_curve.html): идеальная, исходного классификатора, а также для каждого из методов на обучающей выборке. Эта кривая строится путем упорядочения всех объектов по предсказанному значению, которые разбиваются на бины. По оси OX откладывается среднее предсказанное значение вероятности по бину, а по OY — доля положительных примеров. В случае идеальных вероятностей это будет прямая.\n",
    " - Посчитайте *logloss* на тестовой выборке для исходного и классификатора после калибровки.\n",
    " - Дает ли калибровка прирост качества?\n",
    " - Какой из способов калибровки в данном случае работает лучше?\n",
    " - Какой из подходов (калибровка на отложенной выборке или по кросс-валидации) дает более хороший результат?\n",
    " - Почему калибровка практически не должна повлиять на *AUC-ROC*? \n",
    " \n",
    "Обратите внимание, что по умолчанию SVM не реализует метод *predict_proba*. Поэтому для него можно воспользоваться методом *decision_function*, который вернет значение отступа. После этого отмасштабируйте полученные отступы в интервал [0, 1], применив сигмоиду или линейное преобразование."
   ]
  },
  {
   "cell_type": "code",
   "execution_count": 158,
   "metadata": {
    "collapsed": true
   },
   "outputs": [],
   "source": [
    "from sklearn.calibration import CalibratedClassifierCV, calibration_curve\n",
    "from sklearn.metrics import log_loss"
   ]
  },
  {
   "cell_type": "code",
   "execution_count": 137,
   "metadata": {
    "collapsed": true
   },
   "outputs": [],
   "source": [
    "svm = SVC( C = params_rs[-1]['C'], max_iter = params_rs[-1]['max_iter'], kernel='linear',probability = False)"
   ]
  },
  {
   "cell_type": "markdown",
   "metadata": {},
   "source": [
    "Калибровка по отложенной выборке"
   ]
  },
  {
   "cell_type": "code",
   "execution_count": 174,
   "metadata": {},
   "outputs": [],
   "source": [
    "X_train_cal, X_test_cal, y_train_cal, y_test_cal= train_test_split(X_test_meta, y_test_meta, test_size=0.8, random_state=7, stratify=y_test_meta)"
   ]
  },
  {
   "cell_type": "code",
   "execution_count": 175,
   "metadata": {},
   "outputs": [
    {
     "ename": "AttributeError",
     "evalue": "'CalibratedClassifierCV' object has no attribute 'decision_function'",
     "output_type": "error",
     "traceback": [
      "\u001b[0;31m---------------------------------------------------------------------------\u001b[0m",
      "\u001b[0;31mAttributeError\u001b[0m                            Traceback (most recent call last)",
      "\u001b[0;32m<ipython-input-175-411b9a99632c>\u001b[0m in \u001b[0;36m<module>\u001b[0;34m()\u001b[0m\n\u001b[1;32m      1\u001b[0m \u001b[0msvm\u001b[0m\u001b[0;34m.\u001b[0m\u001b[0mfit\u001b[0m\u001b[0;34m(\u001b[0m\u001b[0mX_train_meta\u001b[0m\u001b[0;34m,\u001b[0m \u001b[0my_train_meta\u001b[0m\u001b[0;34m)\u001b[0m\u001b[0;34m\u001b[0m\u001b[0m\n\u001b[0;32m----> 2\u001b[0;31m \u001b[0mprob_pos\u001b[0m \u001b[0;34m=\u001b[0m \u001b[0mclf\u001b[0m\u001b[0;34m.\u001b[0m\u001b[0mdecision_function\u001b[0m\u001b[0;34m(\u001b[0m\u001b[0mX_test_cal\u001b[0m\u001b[0;34m)\u001b[0m\u001b[0;34m\u001b[0m\u001b[0m\n\u001b[0m\u001b[1;32m      3\u001b[0m \u001b[0mprob_pos\u001b[0m \u001b[0;34m=\u001b[0m \u001b[0;34m(\u001b[0m\u001b[0mprob_pos\u001b[0m \u001b[0;34m-\u001b[0m \u001b[0mprob_pos\u001b[0m\u001b[0;34m.\u001b[0m\u001b[0mmin\u001b[0m\u001b[0;34m(\u001b[0m\u001b[0;34m)\u001b[0m\u001b[0;34m)\u001b[0m \u001b[0;34m/\u001b[0m \u001b[0;34m(\u001b[0m\u001b[0mprob_pos\u001b[0m\u001b[0;34m.\u001b[0m\u001b[0mmax\u001b[0m\u001b[0;34m(\u001b[0m\u001b[0;34m)\u001b[0m \u001b[0;34m-\u001b[0m \u001b[0mprob_pos\u001b[0m\u001b[0;34m.\u001b[0m\u001b[0mmin\u001b[0m\u001b[0;34m(\u001b[0m\u001b[0;34m)\u001b[0m\u001b[0;34m)\u001b[0m\u001b[0;34m\u001b[0m\u001b[0m\n\u001b[1;32m      4\u001b[0m \u001b[0mprint\u001b[0m\u001b[0;34m(\u001b[0m\u001b[0;34m\"svm_log_loss:\"\u001b[0m\u001b[0;34m,\u001b[0m\u001b[0mlog_loss\u001b[0m\u001b[0;34m(\u001b[0m\u001b[0my_test_cal\u001b[0m\u001b[0;34m,\u001b[0m \u001b[0mprob_pos_svm\u001b[0m\u001b[0;34m)\u001b[0m\u001b[0;34m)\u001b[0m\u001b[0;34m\u001b[0m\u001b[0m\n\u001b[1;32m      5\u001b[0m \u001b[0;34m\u001b[0m\u001b[0m\n",
      "\u001b[0;31mAttributeError\u001b[0m: 'CalibratedClassifierCV' object has no attribute 'decision_function'"
     ]
    }
   ],
   "source": [
    "svm.fit(X_train_meta, y_train_meta)\n",
    "prob_pos = svm.decision_function(X_test_cal)\n",
    "prob_pos = (prob_pos - prob_pos.min()) / (prob_pos.max() - prob_pos.min())\n",
    "print(\"svm_log_loss:\",log_loss(y_test_cal, prob_pos_svm))\n",
    "\n",
    "sigmoid = CalibratedClassifierCV(base_estimator=svm, method='sigmoid', cv='prefit')\n",
    "isotonic = CalibratedClassifierCV(base_estimator=svm, method='isotonic', cv='prefit')\n",
    "plt.figure(figsize=(10, 10))\n",
    "ax1 = plt.subplot2grid((3, 1), (0, 0), rowspan=2)\n",
    "ax2 = plt.subplot2grid((3, 1), (2, 0))\n",
    "\n",
    "fraction_of_positives, mean_predicted_value = calibration_curve(y_test_cal, prob_pos, n_bins=10)\n",
    "\n",
    "ax1.plot(mean_predicted_value, fraction_of_positives, \"s-\",\n",
    "            label=\"%s\" % ('svm', ))\n",
    "\n",
    "ax2.hist(prob_pos, range=(0, 1), bins=10, label=name,\n",
    "            histtype=\"step\", lw=2)\n",
    "\n",
    "ax1.plot([0, 1], [0, 1], \"k:\", label=\"Perfectly calibrated\")\n",
    "for clf, name in [(sigmoid,\"sigmoid\"),(isotonic,\"isotonic\")]:\n",
    "    clf.fit(X_train_cal, y_train_cal)\n",
    "    prob_pos = clf.predict_proba(X_test_cal)[:, 1]\n",
    "    print(name+\"_log_loss:\",log_loss(y_test_cal, prob_pos))\n",
    "\n",
    "    fraction_of_positives, mean_predicted_value = \\\n",
    "        calibration_curve(y_test_cal, prob_pos, n_bins=10)\n",
    "\n",
    "    ax1.plot(mean_predicted_value, fraction_of_positives, \"s-\",\n",
    "             label=\"%s\" % (name, ))\n",
    "\n",
    "    ax2.hist(prob_pos, range=(0, 1), bins=10, label=name,\n",
    "             histtype=\"step\", lw=2)\n",
    "    \n",
    "ax1.set_ylabel(\"Fraction of positives\")\n",
    "ax1.set_ylim([-0.05, 1.05])\n",
    "ax1.legend(loc=\"lower right\")\n",
    "ax1.set_title('Calibration plots  (reliability curve)')\n",
    "\n",
    "ax2.set_xlabel(\"Mean predicted value\")\n",
    "ax2.set_ylabel(\"Count\")\n",
    "ax2.legend(loc=\"upper center\", ncol=2)\n",
    "\n",
    "plt.tight_layout()\n",
    "plt.show()"
   ]
  },
  {
   "cell_type": "markdown",
   "metadata": {},
   "source": [
    "Калибровка про кросс-валидации"
   ]
  },
  {
   "cell_type": "code",
   "execution_count": 168,
   "metadata": {
    "scrolled": true
   },
   "outputs": [
    {
     "name": "stdout",
     "output_type": "stream",
     "text": [
      "SVM_log_loss: 3.20101803736\n",
      "sigmoid_log_loss: 0.34605049477\n",
      "isotonic_log_loss: 0.343816837562\n"
     ]
    },
    {
     "data": {
      "image/png": "[encoded data removed]",
      "text/plain": [
       "<matplotlib.figure.Figure at 0x1100c0940>"
      ]
     },
     "metadata": {},
     "output_type": "display_data"
    }
   ],
   "source": [
    "sigmoid = CalibratedClassifierCV(base_estimator=svm, method='sigmoid', cv=5)\n",
    "isotonic = CalibratedClassifierCV(base_estimator=svm, method='isotonic', cv=5)\n",
    "plt.figure(figsize=(10, 10))\n",
    "ax1 = plt.subplot2grid((3, 1), (0, 0), rowspan=2)\n",
    "ax2 = plt.subplot2grid((3, 1), (2, 0))\n",
    "\n",
    "ax1.plot([0, 1], [0, 1], \"k:\", label=\"Perfectly calibrated\")\n",
    "for clf, name in [(svm, 'SVM'),(sigmoid,\"sigmoid\"),(isotonic,\"isotonic\")]:\n",
    "    clf.fit(X_train_meta, y_train_meta)\n",
    "    if hasattr(clf, \"predict_proba\"):\n",
    "        prob_pos = clf.predict_proba(X_test_meta)[:, 1]\n",
    "\n",
    "    else:  # use decision function\n",
    "        prob_pos = clf.decision_function(X_test_meta)\n",
    "        prob_pos = \\\n",
    "            (prob_pos - prob_pos.min()) / (prob_pos.max() - prob_pos.min())\n",
    "    print(name+\"_log_loss:\",log_loss(y_test_meta, prob_pos))\n",
    "\n",
    "    fraction_of_positives, mean_predicted_value = \\\n",
    "        calibration_curve(y_test_meta, prob_pos, n_bins=10)\n",
    "\n",
    "    ax1.plot(mean_predicted_value, fraction_of_positives, \"s-\",\n",
    "             label=\"%s\" % (name, ))\n",
    "\n",
    "    ax2.hist(prob_pos, range=(0, 1), bins=10, label=name,\n",
    "             histtype=\"step\", lw=2)\n",
    "    \n",
    "ax1.set_ylabel(\"Fraction of positives\")\n",
    "ax1.set_ylim([-0.05, 1.05])\n",
    "ax1.legend(loc=\"lower right\")\n",
    "ax1.set_title('Calibration plots  (reliability curve)')\n",
    "\n",
    "ax2.set_xlabel(\"Mean predicted value\")\n",
    "ax2.set_ylabel(\"Count\")\n",
    "ax2.legend(loc=\"upper center\", ncol=2)\n",
    "\n",
    "plt.tight_layout()\n",
    "plt.show()"
   ]
  },
  {
   "cell_type": "markdown",
   "metadata": {
    "collapsed": true
   },
   "source": [
    "Калибровка дает прирост качества по метрике logloss/ второй подход (по кросс-валидации) работает лучше. В обоих подходах работает лучше изотоническая регресия.\n",
    "Калибровка мало влияет на степень уверенности принадлежности классу, она масштабирует порог, и auc почти не должна измениться."
   ]
  },
  {
   "cell_type": "code",
   "execution_count": null,
   "metadata": {
    "collapsed": true
   },
   "outputs": [],
   "source": []
  }
 ],
 "metadata": {
  "kernelspec": {
   "display_name": "Python 3",
   "language": "python",
   "name": "python3"
  },
  "language_info": {
   "codemirror_mode": {
    "name": "ipython",
    "version": 3
   },
   "file_extension": ".py",
   "mimetype": "text/x-python",
   "name": "python",
   "nbconvert_exporter": "python",
   "pygments_lexer": "ipython3",
   "version": "3.6.7"
  }
 },
 "nbformat": 4,
 "nbformat_minor": 1
}
